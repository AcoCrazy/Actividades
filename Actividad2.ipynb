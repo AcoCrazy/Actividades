{
  "nbformat": 4,
  "nbformat_minor": 0,
  "metadata": {
    "colab": {
      "provenance": []
    },
    "kernelspec": {
      "name": "python3",
      "display_name": "Python 3"
    },
    "language_info": {
      "name": "python"
    }
  },
  "cells": [
    {
      "cell_type": "markdown",
      "source": [
        "# **Actividad 2 - Ejercicios de Python**\n",
        "\n",
        "Alan Oliverio Rodriguez Olazaran\n",
        "\n",
        "1868812\n",
        "\n",
        "Hora: N1\n",
        "\n",
        "--------------------------------------------------------------------------------"
      ],
      "metadata": {
        "id": "eRUhkcV88dIZ"
      }
    },
    {
      "cell_type": "markdown",
      "source": [
        "Escribe un programa que solicite al usuario un número y que indique si es par o impar."
      ],
      "metadata": {
        "id": "-nmgvkjZ87S-"
      }
    },
    {
      "cell_type": "code",
      "source": [
        "x=input(\"Ingrese un numero: \")\n",
        "x=int(x)\n",
        "\n",
        "if x%2==0:\n",
        "  print(\"El numero que ingresastre es un numero par\")\n",
        "else:\n",
        "  print(\"El numero que ingresastre es un numero impar\")"
      ],
      "metadata": {
        "colab": {
          "base_uri": "https://localhost:8080/"
        },
        "id": "atjnSuZp8-jX",
        "outputId": "8c344c95-3206-4bc4-fd61-87151eae6d6d"
      },
      "execution_count": null,
      "outputs": [
        {
          "output_type": "stream",
          "name": "stdout",
          "text": [
            "Ingrese un numero: 19\n",
            "El numero que ingresastre es un numero impar\n"
          ]
        }
      ]
    },
    {
      "cell_type": "markdown",
      "source": [
        "Escribe un programa que tome una lista de números ingresados por el usuario y muestre la lista en orden inverso."
      ],
      "metadata": {
        "id": "8daKbvPHH9rB"
      }
    },
    {
      "cell_type": "code",
      "source": [
        "list1=[]\n",
        "i=0\n",
        "print(\"Ingresa 10 datos a la siguiente lista\")\n",
        "while i<10:\n",
        "  i=i+1\n",
        "  x=input(\"Ingrese un dato en la pocicion \" + str(i) + \": \")\n",
        "  list1.append(x)\n",
        "else:\n",
        "  list1.reverse()\n",
        "  print(list1)"
      ],
      "metadata": {
        "colab": {
          "base_uri": "https://localhost:8080/"
        },
        "id": "LG3n7qMwQBIE",
        "outputId": "34db4582-1256-41de-a355-d11b22280289"
      },
      "execution_count": null,
      "outputs": [
        {
          "output_type": "stream",
          "name": "stdout",
          "text": [
            "Ingresa 10 datos a la siguiente lista\n",
            "Ingrese un dato en la pocicion 1: 2\n",
            "Ingrese un dato en la pocicion 2: 5665\n",
            "Ingrese un dato en la pocicion 3: 313\n",
            "Ingrese un dato en la pocicion 4: 846\n",
            "Ingrese un dato en la pocicion 5: 651\n",
            "Ingrese un dato en la pocicion 6: 984\n",
            "Ingrese un dato en la pocicion 7: 5656\n",
            "Ingrese un dato en la pocicion 8: 5313\n",
            "Ingrese un dato en la pocicion 9: 5865\n",
            "Ingrese un dato en la pocicion 10: 96\n",
            "['96', '5865', '5313', '5656', '984', '651', '846', '313', '5665', '2']\n"
          ]
        }
      ]
    },
    {
      "cell_type": "markdown",
      "source": [
        "Juego de adivinar el número"
      ],
      "metadata": {
        "id": "-PrlPAqVRPj5"
      }
    },
    {
      "cell_type": "code",
      "source": [
        "from os import X_OK\n",
        "import random\n",
        "y=0\n",
        "x=random.randint(1,100)\n",
        "print(\"Hola usario, sea bienvenido a los juegos no macabros \")\n",
        "print(\"Tendras que adivinar el numero que se generara de manera aleator del 1 al 100\")\n",
        "print(\"Que empieze el juego JAJAJAJA *risa malvada*\")\n",
        "while y!=x:\n",
        "  y=input(\"ingrese el numero correcto: \")\n",
        "  y=int(y)\n",
        "  if y==x:\n",
        "    print(\"Felicidades has ganado, toma tu paletita :D\")\n",
        "    break\n",
        "  elif y<x:\n",
        "    print(\"estas muy abajo chavo, subele!\")\n",
        "  elif y>x:\n",
        "    print(\"estas muy ariba giganton, bajale!\")"
      ],
      "metadata": {
        "colab": {
          "base_uri": "https://localhost:8080/"
        },
        "id": "GeO0ICO-RYzS",
        "outputId": "5ff2777e-a10d-49f7-9d27-d825df395af4"
      },
      "execution_count": null,
      "outputs": [
        {
          "output_type": "stream",
          "name": "stdout",
          "text": [
            "Hola usario, sea bienvenido a los juegos no macabros \n",
            "Tendras que adivinar el numero que se generara de manera aleator del 1 al 100\n",
            "Que empieze el juego JAJAJAJA *risa malvada*\n",
            "ingrese el numero correcto: 10\n",
            "estas muy abajo chavo, subele!\n",
            "ingrese el numero correcto: 20\n",
            "estas muy abajo chavo, subele!\n",
            "ingrese el numero correcto: 30\n",
            "estas muy abajo chavo, subele!\n",
            "ingrese el numero correcto: 40\n",
            "estas muy abajo chavo, subele!\n",
            "ingrese el numero correcto: 50\n",
            "estas muy abajo chavo, subele!\n",
            "ingrese el numero correcto: 60\n",
            "estas muy ariba giganton, bajale!\n",
            "ingrese el numero correcto: 55\n",
            "estas muy ariba giganton, bajale!\n",
            "ingrese el numero correcto: 53\n",
            "Felicidades has ganado, toma tu paletita :D\n"
          ]
        }
      ]
    },
    {
      "cell_type": "markdown",
      "source": [
        "Ejercicio de cálculo de números primos en un rango dado:"
      ],
      "metadata": {
        "id": "hbPTUyWyYuNO"
      }
    },
    {
      "cell_type": "code",
      "source": [
        "list2=[]\n",
        "list3=[]\n",
        "i=0\n",
        "print(\"Ingresa 10 NUMEROS a la siguiente lista\")\n",
        "while i<20:\n",
        "  i=i+1\n",
        "  x=input(\"Ingrese un NUMERO en la pocicion \" + str(i) + \": \")\n",
        "  x=int(x)\n",
        "  list2.append(x)\n",
        "o=0\n",
        "while o<20:\n",
        "  if list2[o]>1:\n",
        "    c=0\n",
        "    for i in range(2,list2[o]):\n",
        "      D=list2[o]%i\n",
        "      if D==0:\n",
        "        c+=1\n",
        "    if c==0:\n",
        "      list3.append(list2[o])\n",
        "    o+=1\n",
        "  else:\n",
        "    o+=1\n",
        "print(\"-------------------------------\")\n",
        "print(\"Los numeros primos que ingresastes son:\",list3)\n"
      ],
      "metadata": {
        "id": "8tWrZTLGToQs",
        "colab": {
          "base_uri": "https://localhost:8080/"
        },
        "outputId": "1a969b77-3b59-4ffa-a7f2-bfd9c2f68c92"
      },
      "execution_count": 11,
      "outputs": [
        {
          "output_type": "stream",
          "name": "stdout",
          "text": [
            "Ingresa 10 NUMEROS a la siguiente lista\n",
            "Ingrese un NUMERO en la pocicion 1: 1\n",
            "Ingrese un NUMERO en la pocicion 2: 2\n",
            "Ingrese un NUMERO en la pocicion 3: 3\n",
            "Ingrese un NUMERO en la pocicion 4: 4\n",
            "Ingrese un NUMERO en la pocicion 5: 5\n",
            "Ingrese un NUMERO en la pocicion 6: 6\n",
            "Ingrese un NUMERO en la pocicion 7: 7\n",
            "Ingrese un NUMERO en la pocicion 8: 8\n",
            "Ingrese un NUMERO en la pocicion 9: 9\n",
            "Ingrese un NUMERO en la pocicion 10: 10\n",
            "Ingrese un NUMERO en la pocicion 11: 11\n",
            "Ingrese un NUMERO en la pocicion 12: 12\n",
            "Ingrese un NUMERO en la pocicion 13: 13\n",
            "Ingrese un NUMERO en la pocicion 14: 14\n",
            "Ingrese un NUMERO en la pocicion 15: 15\n",
            "Ingrese un NUMERO en la pocicion 16: 16\n",
            "Ingrese un NUMERO en la pocicion 17: 17\n",
            "Ingrese un NUMERO en la pocicion 18: 18\n",
            "Ingrese un NUMERO en la pocicion 19: 19\n",
            "Ingrese un NUMERO en la pocicion 20: 20\n",
            "-------------------------------\n",
            "Los numeros primos que ingresastes son: [2, 3, 5, 7, 11, 13, 17, 19]\n"
          ]
        }
      ]
    }
  ]
}